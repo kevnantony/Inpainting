{
 "cells": [
  {
   "cell_type": "code",
   "execution_count": 1,
   "metadata": {},
   "outputs": [
    {
     "name": "stdout",
     "output_type": "stream",
     "text": [
      "Tue Aug 13 17:45:11 2024       \n",
      "+---------------------------------------------------------------------------------------+\n",
      "| NVIDIA-SMI 535.104.12             Driver Version: 535.104.12   CUDA Version: 12.2     |\n",
      "|-----------------------------------------+----------------------+----------------------+\n",
      "| GPU  Name                 Persistence-M | Bus-Id        Disp.A | Volatile Uncorr. ECC |\n",
      "| Fan  Temp   Perf          Pwr:Usage/Cap |         Memory-Usage | GPU-Util  Compute M. |\n",
      "|                                         |                      |               MIG M. |\n",
      "|=========================================+======================+======================|\n",
      "|   0  Tesla T4                       On  | 00000000:00:1E.0 Off |                    0 |\n",
      "| N/A   32C    P8               9W /  70W |      0MiB / 15360MiB |      0%      Default |\n",
      "|                                         |                      |                  N/A |\n",
      "+-----------------------------------------+----------------------+----------------------+\n",
      "                                                                                         \n",
      "+---------------------------------------------------------------------------------------+\n",
      "| Processes:                                                                            |\n",
      "|  GPU   GI   CI        PID   Type   Process name                            GPU Memory |\n",
      "|        ID   ID                                                             Usage      |\n",
      "|=======================================================================================|\n",
      "|  No running processes found                                                           |\n",
      "+---------------------------------------------------------------------------------------+\n"
     ]
    }
   ],
   "source": [
    "!nvidia-smi"
   ]
  },
  {
   "cell_type": "code",
   "execution_count": 1,
   "metadata": {},
   "outputs": [],
   "source": [
    "! pip install diffusers transformers ftfy  -q"
   ]
  },
  {
   "cell_type": "code",
   "execution_count": 2,
   "metadata": {},
   "outputs": [
    {
     "name": "stdout",
     "output_type": "stream",
     "text": [
      "Collecting gradio==3.50.2\n",
      "  Using cached gradio-3.50.2-py3-none-any.whl.metadata (17 kB)\n",
      "Requirement already satisfied: aiofiles<24.0,>=22.0 in /opt/conda/envs/ipenv/lib/python3.12/site-packages (from gradio==3.50.2) (23.2.1)\n",
      "Requirement already satisfied: altair<6.0,>=4.2.0 in /opt/conda/envs/ipenv/lib/python3.12/site-packages (from gradio==3.50.2) (5.4.0)\n",
      "Requirement already satisfied: fastapi in /opt/conda/envs/ipenv/lib/python3.12/site-packages (from gradio==3.50.2) (0.112.0)\n",
      "Requirement already satisfied: ffmpy in /opt/conda/envs/ipenv/lib/python3.12/site-packages (from gradio==3.50.2) (0.4.0)\n",
      "Collecting gradio-client==0.6.1 (from gradio==3.50.2)\n",
      "  Using cached gradio_client-0.6.1-py3-none-any.whl.metadata (7.1 kB)\n",
      "Requirement already satisfied: httpx in /opt/conda/envs/ipenv/lib/python3.12/site-packages (from gradio==3.50.2) (0.27.0)\n",
      "Requirement already satisfied: huggingface-hub>=0.14.0 in /opt/conda/envs/ipenv/lib/python3.12/site-packages (from gradio==3.50.2) (0.24.5)\n",
      "Requirement already satisfied: importlib-resources<7.0,>=1.3 in /opt/conda/envs/ipenv/lib/python3.12/site-packages (from gradio==3.50.2) (6.4.0)\n",
      "Requirement already satisfied: jinja2<4.0 in /opt/conda/envs/ipenv/lib/python3.12/site-packages (from gradio==3.50.2) (3.1.4)\n",
      "Requirement already satisfied: markupsafe~=2.0 in /opt/conda/envs/ipenv/lib/python3.12/site-packages (from gradio==3.50.2) (2.1.5)\n",
      "Requirement already satisfied: matplotlib~=3.0 in /opt/conda/envs/ipenv/lib/python3.12/site-packages (from gradio==3.50.2) (3.9.2)\n",
      "Requirement already satisfied: numpy~=1.0 in /opt/conda/envs/ipenv/lib/python3.12/site-packages (from gradio==3.50.2) (1.26.4)\n",
      "Requirement already satisfied: orjson~=3.0 in /opt/conda/envs/ipenv/lib/python3.12/site-packages (from gradio==3.50.2) (3.10.7)\n",
      "Requirement already satisfied: packaging in /opt/conda/envs/ipenv/lib/python3.12/site-packages (from gradio==3.50.2) (24.1)\n",
      "Requirement already satisfied: pandas<3.0,>=1.0 in /opt/conda/envs/ipenv/lib/python3.12/site-packages (from gradio==3.50.2) (2.2.2)\n",
      "Requirement already satisfied: pillow<11.0,>=8.0 in /opt/conda/envs/ipenv/lib/python3.12/site-packages (from gradio==3.50.2) (10.4.0)\n",
      "Requirement already satisfied: pydantic!=1.8,!=1.8.1,!=2.0.0,!=2.0.1,<3.0.0,>=1.7.4 in /opt/conda/envs/ipenv/lib/python3.12/site-packages (from gradio==3.50.2) (2.8.2)\n",
      "Requirement already satisfied: pydub in /opt/conda/envs/ipenv/lib/python3.12/site-packages (from gradio==3.50.2) (0.25.1)\n",
      "Requirement already satisfied: python-multipart in /opt/conda/envs/ipenv/lib/python3.12/site-packages (from gradio==3.50.2) (0.0.9)\n",
      "Requirement already satisfied: pyyaml<7.0,>=5.0 in /opt/conda/envs/ipenv/lib/python3.12/site-packages (from gradio==3.50.2) (6.0.2)\n",
      "Requirement already satisfied: requests~=2.0 in /opt/conda/envs/ipenv/lib/python3.12/site-packages (from gradio==3.50.2) (2.32.3)\n",
      "Requirement already satisfied: semantic-version~=2.0 in /opt/conda/envs/ipenv/lib/python3.12/site-packages (from gradio==3.50.2) (2.10.0)\n",
      "Requirement already satisfied: typing-extensions~=4.0 in /opt/conda/envs/ipenv/lib/python3.12/site-packages (from gradio==3.50.2) (4.12.2)\n",
      "Requirement already satisfied: uvicorn>=0.14.0 in /opt/conda/envs/ipenv/lib/python3.12/site-packages (from gradio==3.50.2) (0.30.6)\n",
      "Requirement already satisfied: websockets<12.0,>=10.0 in /opt/conda/envs/ipenv/lib/python3.12/site-packages (from gradio==3.50.2) (11.0.3)\n",
      "Requirement already satisfied: fsspec in /opt/conda/envs/ipenv/lib/python3.12/site-packages (from gradio-client==0.6.1->gradio==3.50.2) (2024.6.1)\n",
      "Requirement already satisfied: jsonschema>=3.0 in /opt/conda/envs/ipenv/lib/python3.12/site-packages (from altair<6.0,>=4.2.0->gradio==3.50.2) (4.23.0)\n",
      "Requirement already satisfied: narwhals>=1.1.0 in /opt/conda/envs/ipenv/lib/python3.12/site-packages (from altair<6.0,>=4.2.0->gradio==3.50.2) (1.4.0)\n",
      "Requirement already satisfied: filelock in /opt/conda/envs/ipenv/lib/python3.12/site-packages (from huggingface-hub>=0.14.0->gradio==3.50.2) (3.15.4)\n",
      "Requirement already satisfied: tqdm>=4.42.1 in /opt/conda/envs/ipenv/lib/python3.12/site-packages (from huggingface-hub>=0.14.0->gradio==3.50.2) (4.66.5)\n",
      "Requirement already satisfied: contourpy>=1.0.1 in /opt/conda/envs/ipenv/lib/python3.12/site-packages (from matplotlib~=3.0->gradio==3.50.2) (1.2.1)\n",
      "Requirement already satisfied: cycler>=0.10 in /opt/conda/envs/ipenv/lib/python3.12/site-packages (from matplotlib~=3.0->gradio==3.50.2) (0.12.1)\n",
      "Requirement already satisfied: fonttools>=4.22.0 in /opt/conda/envs/ipenv/lib/python3.12/site-packages (from matplotlib~=3.0->gradio==3.50.2) (4.53.1)\n",
      "Requirement already satisfied: kiwisolver>=1.3.1 in /opt/conda/envs/ipenv/lib/python3.12/site-packages (from matplotlib~=3.0->gradio==3.50.2) (1.4.5)\n",
      "Requirement already satisfied: pyparsing>=2.3.1 in /opt/conda/envs/ipenv/lib/python3.12/site-packages (from matplotlib~=3.0->gradio==3.50.2) (3.1.2)\n",
      "Requirement already satisfied: python-dateutil>=2.7 in /opt/conda/envs/ipenv/lib/python3.12/site-packages (from matplotlib~=3.0->gradio==3.50.2) (2.9.0)\n",
      "Requirement already satisfied: pytz>=2020.1 in /opt/conda/envs/ipenv/lib/python3.12/site-packages (from pandas<3.0,>=1.0->gradio==3.50.2) (2024.1)\n",
      "Requirement already satisfied: tzdata>=2022.7 in /opt/conda/envs/ipenv/lib/python3.12/site-packages (from pandas<3.0,>=1.0->gradio==3.50.2) (2024.1)\n",
      "Requirement already satisfied: annotated-types>=0.4.0 in /opt/conda/envs/ipenv/lib/python3.12/site-packages (from pydantic!=1.8,!=1.8.1,!=2.0.0,!=2.0.1,<3.0.0,>=1.7.4->gradio==3.50.2) (0.7.0)\n",
      "Requirement already satisfied: pydantic-core==2.20.1 in /opt/conda/envs/ipenv/lib/python3.12/site-packages (from pydantic!=1.8,!=1.8.1,!=2.0.0,!=2.0.1,<3.0.0,>=1.7.4->gradio==3.50.2) (2.20.1)\n",
      "Requirement already satisfied: charset-normalizer<4,>=2 in /opt/conda/envs/ipenv/lib/python3.12/site-packages (from requests~=2.0->gradio==3.50.2) (3.3.2)\n",
      "Requirement already satisfied: idna<4,>=2.5 in /opt/conda/envs/ipenv/lib/python3.12/site-packages (from requests~=2.0->gradio==3.50.2) (3.7)\n",
      "Requirement already satisfied: urllib3<3,>=1.21.1 in /opt/conda/envs/ipenv/lib/python3.12/site-packages (from requests~=2.0->gradio==3.50.2) (2.2.2)\n",
      "Requirement already satisfied: certifi>=2017.4.17 in /opt/conda/envs/ipenv/lib/python3.12/site-packages (from requests~=2.0->gradio==3.50.2) (2024.7.4)\n",
      "Requirement already satisfied: click>=7.0 in /opt/conda/envs/ipenv/lib/python3.12/site-packages (from uvicorn>=0.14.0->gradio==3.50.2) (8.1.7)\n",
      "Requirement already satisfied: h11>=0.8 in /opt/conda/envs/ipenv/lib/python3.12/site-packages (from uvicorn>=0.14.0->gradio==3.50.2) (0.14.0)\n",
      "Requirement already satisfied: starlette<0.38.0,>=0.37.2 in /opt/conda/envs/ipenv/lib/python3.12/site-packages (from fastapi->gradio==3.50.2) (0.37.2)\n",
      "Requirement already satisfied: anyio in /opt/conda/envs/ipenv/lib/python3.12/site-packages (from httpx->gradio==3.50.2) (4.4.0)\n",
      "Requirement already satisfied: httpcore==1.* in /opt/conda/envs/ipenv/lib/python3.12/site-packages (from httpx->gradio==3.50.2) (1.0.5)\n",
      "Requirement already satisfied: sniffio in /opt/conda/envs/ipenv/lib/python3.12/site-packages (from httpx->gradio==3.50.2) (1.3.1)\n",
      "Requirement already satisfied: attrs>=22.2.0 in /opt/conda/envs/ipenv/lib/python3.12/site-packages (from jsonschema>=3.0->altair<6.0,>=4.2.0->gradio==3.50.2) (24.2.0)\n",
      "Requirement already satisfied: jsonschema-specifications>=2023.03.6 in /opt/conda/envs/ipenv/lib/python3.12/site-packages (from jsonschema>=3.0->altair<6.0,>=4.2.0->gradio==3.50.2) (2023.12.1)\n",
      "Requirement already satisfied: referencing>=0.28.4 in /opt/conda/envs/ipenv/lib/python3.12/site-packages (from jsonschema>=3.0->altair<6.0,>=4.2.0->gradio==3.50.2) (0.35.1)\n",
      "Requirement already satisfied: rpds-py>=0.7.1 in /opt/conda/envs/ipenv/lib/python3.12/site-packages (from jsonschema>=3.0->altair<6.0,>=4.2.0->gradio==3.50.2) (0.20.0)\n",
      "Requirement already satisfied: six>=1.5 in /opt/conda/envs/ipenv/lib/python3.12/site-packages (from python-dateutil>=2.7->matplotlib~=3.0->gradio==3.50.2) (1.16.0)\n",
      "Using cached gradio-3.50.2-py3-none-any.whl (20.3 MB)\n",
      "Using cached gradio_client-0.6.1-py3-none-any.whl (299 kB)\n",
      "Installing collected packages: gradio-client, gradio\n",
      "  Attempting uninstall: gradio-client\n",
      "    Found existing installation: gradio_client 1.3.0\n",
      "    Uninstalling gradio_client-1.3.0:\n",
      "      Successfully uninstalled gradio_client-1.3.0\n",
      "  Attempting uninstall: gradio\n",
      "    Found existing installation: gradio 4.41.0\n",
      "    Uninstalling gradio-4.41.0:\n",
      "      Successfully uninstalled gradio-4.41.0\n",
      "Successfully installed gradio-3.50.2 gradio-client-0.6.1\n"
     ]
    }
   ],
   "source": [
    "! pip install gradio==3.50.2"
   ]
  },
  {
   "cell_type": "code",
   "execution_count": 4,
   "metadata": {},
   "outputs": [
    {
     "name": "stderr",
     "output_type": "stream",
     "text": [
      "/opt/conda/envs/ipenv/lib/python3.12/site-packages/tqdm/auto.py:21: TqdmWarning: IProgress not found. Please update jupyter and ipywidgets. See https://ipywidgets.readthedocs.io/en/stable/user_install.html\n",
      "  from .autonotebook import tqdm as notebook_tqdm\n"
     ]
    },
    {
     "ename": "ImportError",
     "evalue": "The `notebook_login` function can only be used in a notebook (Jupyter or Colab) and you need the `ipywidgets` module: `pip install ipywidgets`.",
     "output_type": "error",
     "traceback": [
      "\u001b[0;31m---------------------------------------------------------------------------\u001b[0m",
      "\u001b[0;31mModuleNotFoundError\u001b[0m                       Traceback (most recent call last)",
      "File \u001b[0;32m/opt/conda/envs/ipenv/lib/python3.12/site-packages/huggingface_hub/_login.py:238\u001b[0m, in \u001b[0;36mnotebook_login\u001b[0;34m(new_session, write_permission)\u001b[0m\n\u001b[1;32m    237\u001b[0m \u001b[38;5;28;01mtry\u001b[39;00m:\n\u001b[0;32m--> 238\u001b[0m     \u001b[38;5;28;01mimport\u001b[39;00m \u001b[38;5;21;01mipywidgets\u001b[39;00m\u001b[38;5;21;01m.\u001b[39;00m\u001b[38;5;21;01mwidgets\u001b[39;00m \u001b[38;5;28;01mas\u001b[39;00m \u001b[38;5;21;01mwidgets\u001b[39;00m  \u001b[38;5;66;03m# type: ignore\u001b[39;00m\n\u001b[1;32m    239\u001b[0m     \u001b[38;5;28;01mfrom\u001b[39;00m \u001b[38;5;21;01mIPython\u001b[39;00m\u001b[38;5;21;01m.\u001b[39;00m\u001b[38;5;21;01mdisplay\u001b[39;00m \u001b[38;5;28;01mimport\u001b[39;00m display  \u001b[38;5;66;03m# type: ignore\u001b[39;00m\n",
      "\u001b[0;31mModuleNotFoundError\u001b[0m: No module named 'ipywidgets'",
      "\nDuring handling of the above exception, another exception occurred:\n",
      "\u001b[0;31mImportError\u001b[0m                               Traceback (most recent call last)",
      "Cell \u001b[0;32mIn[4], line 3\u001b[0m\n\u001b[1;32m      1\u001b[0m \u001b[38;5;28;01mfrom\u001b[39;00m \u001b[38;5;21;01mhuggingface_hub\u001b[39;00m \u001b[38;5;28;01mimport\u001b[39;00m notebook_login\n\u001b[0;32m----> 3\u001b[0m \u001b[43mnotebook_login\u001b[49m\u001b[43m(\u001b[49m\u001b[43m)\u001b[49m\n",
      "File \u001b[0;32m/opt/conda/envs/ipenv/lib/python3.12/site-packages/huggingface_hub/_login.py:241\u001b[0m, in \u001b[0;36mnotebook_login\u001b[0;34m(new_session, write_permission)\u001b[0m\n\u001b[1;32m    239\u001b[0m     \u001b[38;5;28;01mfrom\u001b[39;00m \u001b[38;5;21;01mIPython\u001b[39;00m\u001b[38;5;21;01m.\u001b[39;00m\u001b[38;5;21;01mdisplay\u001b[39;00m \u001b[38;5;28;01mimport\u001b[39;00m display  \u001b[38;5;66;03m# type: ignore\u001b[39;00m\n\u001b[1;32m    240\u001b[0m \u001b[38;5;28;01mexcept\u001b[39;00m \u001b[38;5;167;01mImportError\u001b[39;00m:\n\u001b[0;32m--> 241\u001b[0m     \u001b[38;5;28;01mraise\u001b[39;00m \u001b[38;5;167;01mImportError\u001b[39;00m(\n\u001b[1;32m    242\u001b[0m         \u001b[38;5;124m\"\u001b[39m\u001b[38;5;124mThe `notebook_login` function can only be used in a notebook (Jupyter or\u001b[39m\u001b[38;5;124m\"\u001b[39m\n\u001b[1;32m    243\u001b[0m         \u001b[38;5;124m\"\u001b[39m\u001b[38;5;124m Colab) and you need the `ipywidgets` module: `pip install ipywidgets`.\u001b[39m\u001b[38;5;124m\"\u001b[39m\n\u001b[1;32m    244\u001b[0m     )\n\u001b[1;32m    245\u001b[0m \u001b[38;5;28;01mif\u001b[39;00m \u001b[38;5;129;01mnot\u001b[39;00m new_session \u001b[38;5;129;01mand\u001b[39;00m _current_token_okay(write_permission\u001b[38;5;241m=\u001b[39mwrite_permission):\n\u001b[1;32m    246\u001b[0m     \u001b[38;5;28mprint\u001b[39m(\u001b[38;5;124m\"\u001b[39m\u001b[38;5;124mUser is already logged in.\u001b[39m\u001b[38;5;124m\"\u001b[39m)\n",
      "\u001b[0;31mImportError\u001b[0m: The `notebook_login` function can only be used in a notebook (Jupyter or Colab) and you need the `ipywidgets` module: `pip install ipywidgets`."
     ]
    }
   ],
   "source": [
    "from huggingface_hub import notebook_login\n",
    "\n",
    "notebook_login()"
   ]
  },
  {
   "cell_type": "code",
   "execution_count": 4,
   "metadata": {},
   "outputs": [
    {
     "name": "stderr",
     "output_type": "stream",
     "text": [
      "Cannot initialize model with low cpu memory usage because `accelerate` was not found in the environment. Defaulting to `low_cpu_mem_usage=False`. It is strongly recommended to install `accelerate` for faster and less memory-intense model loading. You can do so with: \n",
      "```\n",
      "pip install accelerate\n",
      "```\n",
      ".\n",
      "/opt/conda/envs/ipenv/lib/python3.12/site-packages/diffusers/pipelines/pipeline_loading_utils.py:219: FutureWarning: You are loading the variant fp16 from runwayml/stable-diffusion-inpainting via `revision='fp16'` even though you can load it via `variant=`fp16`. Loading model variants via `revision='fp16'` is deprecated and will be removed in diffusers v1. Please use `variant='fp16'` instead.\n",
      "  warnings.warn(\n",
      "unet/diffusion_pytorch_model.safetensors not found\n",
      "Keyword arguments {'use_auth_token': True} are not expected by StableDiffusionInpaintPipeline and will be ignored.\n",
      "Loading pipeline components...:  14%|█▍        | 1/7 [00:00<00:00,  7.86it/s]/opt/conda/envs/ipenv/lib/python3.12/site-packages/transformers/tokenization_utils_base.py:1601: FutureWarning: `clean_up_tokenization_spaces` was not set. It will be set to `True` by default. This behavior will be depracted in transformers v4.45, and will be then set to `False` by default. For more details check this issue: https://github.com/huggingface/transformers/issues/31884\n",
      "  warnings.warn(\n",
      "Loading pipeline components...:  43%|████▎     | 3/7 [00:00<00:00, 12.50it/s]/opt/conda/envs/ipenv/lib/python3.12/site-packages/transformers/models/clip/feature_extraction_clip.py:28: FutureWarning: The class CLIPFeatureExtractor is deprecated and will be removed in version 5 of Transformers. Please use CLIPImageProcessor instead.\n",
      "  warnings.warn(\n",
      "An error occurred while trying to fetch /home/ubuntu/.cache/huggingface/hub/models--runwayml--stable-diffusion-inpainting/snapshots/afeee10def38be19995784bcc811882409d066e5/vae: Error no file named diffusion_pytorch_model.safetensors found in directory /home/ubuntu/.cache/huggingface/hub/models--runwayml--stable-diffusion-inpainting/snapshots/afeee10def38be19995784bcc811882409d066e5/vae.\n",
      "Defaulting to unsafe serialization. Pass `allow_pickle=False` to raise an error instead.\n",
      "Loading pipeline components...:  86%|████████▌ | 6/7 [00:01<00:00,  3.38it/s]An error occurred while trying to fetch /home/ubuntu/.cache/huggingface/hub/models--runwayml--stable-diffusion-inpainting/snapshots/afeee10def38be19995784bcc811882409d066e5/unet: Error no file named diffusion_pytorch_model.safetensors found in directory /home/ubuntu/.cache/huggingface/hub/models--runwayml--stable-diffusion-inpainting/snapshots/afeee10def38be19995784bcc811882409d066e5/unet.\n",
      "Defaulting to unsafe serialization. Pass `allow_pickle=False` to raise an error instead.\n",
      "Loading pipeline components...: 100%|██████████| 7/7 [00:20<00:00,  2.98s/it]\n"
     ]
    },
    {
     "name": "stdout",
     "output_type": "stream",
     "text": [
      "Running on local URL:  http://127.0.0.1:7862\n",
      "IMPORTANT: You are using gradio version 3.50.2, however version 4.29.0 is available, please upgrade.\n",
      "--------\n",
      "Running on public URL: https://78ef8d16aade1fbe4b.gradio.live\n",
      "\n",
      "This share link expires in 72 hours. For free permanent hosting and GPU upgrades, run `gradio deploy` from Terminal to deploy to Spaces (https://huggingface.co/spaces)\n"
     ]
    },
    {
     "data": {
      "text/html": [
       "<div><iframe src=\"https://78ef8d16aade1fbe4b.gradio.live\" width=\"100%\" height=\"500\" allow=\"autoplay; camera; microphone; clipboard-read; clipboard-write;\" frameborder=\"0\" allowfullscreen></iframe></div>"
      ],
      "text/plain": [
       "<IPython.core.display.HTML object>"
      ]
     },
     "metadata": {},
     "output_type": "display_data"
    },
    {
     "data": {
      "text/plain": []
     },
     "execution_count": 4,
     "metadata": {},
     "output_type": "execute_result"
    },
    {
     "name": "stderr",
     "output_type": "stream",
     "text": [
      "100%|██████████| 37/37 [00:05<00:00,  7.04it/s]\n"
     ]
    }
   ],
   "source": [
    "from io import BytesIO\n",
    "from torch import autocast\n",
    "import requests\n",
    "import PIL\n",
    "import torch\n",
    "from diffusers import DiffusionPipeline\n",
    "import gradio as gr\n",
    "\n",
    "\n",
    "device = \"cuda\"\n",
    "pipe = DiffusionPipeline.from_pretrained(\n",
    "    \"runwayml/stable-diffusion-inpainting\",\n",
    "    #\"CompVis/stable-diffusion-v1-4\",\n",
    "    revision=\"fp16\",\n",
    "    torch_dtype=torch.float16,\n",
    "    use_auth_token=True\n",
    ").to(device)\n",
    "\n",
    "def predict(img_dict, prompt):\n",
    "  init_img =  img_dict['image'].convert(\"RGB\").resize((512, 512))\n",
    "  mask_img = img_dict['mask'].convert(\"RGB\").resize((512, 512))\n",
    "\n",
    "  output = pipe(prompt=prompt, image=init_img, mask_image=mask_img, strength=0.75)\n",
    "\n",
    "  return(output.images[0])\n",
    "\n",
    "\n",
    "gr.Interface(\n",
    "    predict,\n",
    "    title = 'FreshFits by Pixlr (Stable Diffusion In-Painting Tool) by Kevin',\n",
    "    description='Use this tool to look your best copping the freshest fits. You can edit images by uploading and sketching on the area to revamp, then the software generates new images based on your prompt.',\n",
    "    inputs=[\n",
    "        gr.Image(label='Upload or Edit Image',source = 'upload', tool = 'sketch', type = 'pil'),\n",
    "        gr.Textbox(label='Outfit Description')\n",
    "    ],\n",
    "    outputs = [\n",
    "        gr.Image(label='Generated Image')\n",
    "        ]\n",
    ").launch(share=True)\n"
   ]
  }
 ],
 "metadata": {
  "kernelspec": {
   "display_name": "ipenv",
   "language": "python",
   "name": "python3"
  },
  "language_info": {
   "codemirror_mode": {
    "name": "ipython",
    "version": 3
   },
   "file_extension": ".py",
   "mimetype": "text/x-python",
   "name": "python",
   "nbconvert_exporter": "python",
   "pygments_lexer": "ipython3",
   "version": "3.12.5"
  }
 },
 "nbformat": 4,
 "nbformat_minor": 2
}
